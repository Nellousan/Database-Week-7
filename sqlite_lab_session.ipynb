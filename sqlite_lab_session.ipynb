{
 "cells": [
  {
   "cell_type": "code",
   "execution_count": 29,
   "metadata": {},
   "outputs": [
    {
     "name": "stdout",
     "output_type": "stream",
     "text": [
      "sqlite\n"
     ]
    }
   ],
   "source": [
    "from sqlalchemy import create_engine\n",
    "\n",
    "my_conn = create_engine(\"sqlite:///my_db.db\") # NOTE: I'm not using collab so i had the db file in the same directory as this file\n",
    "\n",
    "print(my_conn.name)"
   ]
  },
  {
   "cell_type": "code",
   "execution_count": 30,
   "metadata": {},
   "outputs": [
    {
     "name": "stdout",
     "output_type": "stream",
     "text": [
      "('category',)\n",
      "('subcategory',)\n",
      "('student',)\n"
     ]
    }
   ],
   "source": [
    "r_set = my_conn.execute('''select name from sqlite_master where type = 'table' ''')\n",
    "\n",
    "for row in r_set:\n",
    "    print(row)"
   ]
  },
  {
   "cell_type": "code",
   "execution_count": 31,
   "metadata": {},
   "outputs": [
    {
     "name": "stdout",
     "output_type": "stream",
     "text": [
      "(1, 'John Deo', 'Four', 75, 'female')\n",
      "(2, 'Max Ruin', 'Three', 85, 'male')\n",
      "(3, 'Arnold', 'Three', 55, 'male')\n",
      "(4, 'Krish Star', 'Four', 60, 'female')\n",
      "(5, 'John Mike', 'Four', 60, 'female')\n",
      "(6, 'Alex John', 'Four', 55, 'male')\n",
      "(7, 'My John Rob', 'Five', 78, 'male')\n",
      "(8, 'Asruid', 'Five', 85, 'male')\n",
      "(9, 'Tes Qry', 'Six', 78, 'male')\n",
      "(10, 'Big John', 'Four', 55, 'female')\n",
      "(11, 'Ronald', 'Six', 89, 'female')\n",
      "(12, 'Recky', 'Six', 94, 'female')\n",
      "(13, 'Kty', 'Seven', 88, 'female')\n",
      "(14, 'Bigy', 'Seven', 88, 'female')\n",
      "(15, 'Tade Row', 'Four', 88, 'male')\n",
      "(16, 'Gimmy', 'Four', 88, 'male')\n",
      "(17, 'Tumyu', 'Six', 54, 'male')\n",
      "(18, 'Honny', 'Five', 75, 'male')\n",
      "(19, 'Tinny', 'Nine', 18, 'male')\n",
      "(20, 'Jackly', 'Nine', 65, 'female')\n",
      "(21, 'Babby John', 'Four', 69, 'female')\n",
      "(22, 'Reggid', 'Seven', 55, 'female')\n",
      "(23, 'Herod', 'Eight', 79, 'male')\n",
      "(24, 'Tiddy Now', 'Seven', 78, 'male')\n",
      "(25, 'Giff Tow', 'Seven', 88, 'male')\n",
      "(26, 'Crelea', 'Seven', 79, 'male')\n",
      "(27, 'Big Nose', 'Three', 81, 'female')\n",
      "(28, 'Rojj Base', 'Seven', 86, 'female')\n",
      "(29, 'Tess Played', 'Seven', 55, 'male')\n",
      "(30, 'Reppy Red', 'Six', 79, 'female')\n",
      "(31, 'Marry Toeey', 'Four', 88, 'male')\n",
      "(32, 'Binn Rott', 'Seven', 90, 'female')\n",
      "(33, 'Kenn Rein', 'Six', 96, 'female')\n",
      "(34, 'Gain Toe', 'Seven', 69, 'male')\n",
      "(35, 'Rows Noump', 'Six', 88, 'female')\n"
     ]
    }
   ],
   "source": [
    "r_set = my_conn.execute(\"select * from student\")\n",
    "\n",
    "for row in r_set:\n",
    "    print(row)"
   ]
  },
  {
   "cell_type": "code",
   "execution_count": 32,
   "metadata": {},
   "outputs": [
    {
     "name": "stdout",
     "output_type": "stream",
     "text": [
      "(1, 'John Deo', 'Four', 75, 'female')\n",
      "(4, 'Krish Star', 'Four', 60, 'female')\n",
      "(5, 'John Mike', 'Four', 60, 'female')\n",
      "(6, 'Alex John', 'Four', 55, 'male')\n",
      "(10, 'Big John', 'Four', 55, 'female')\n",
      "(15, 'Tade Row', 'Four', 88, 'male')\n",
      "(16, 'Gimmy', 'Four', 88, 'male')\n",
      "(21, 'Babby John', 'Four', 69, 'female')\n",
      "(31, 'Marry Toeey', 'Four', 88, 'male')\n"
     ]
    }
   ],
   "source": [
    "r_set = my_conn.execute('''select id, name, class, mark, sex from student where class = 'Four' ''')\n",
    "\n",
    "for row in r_set:\n",
    "    print(row)"
   ]
  },
  {
   "cell_type": "code",
   "execution_count": 33,
   "metadata": {},
   "outputs": [
    {
     "name": "stdout",
     "output_type": "stream",
     "text": [
      "(8, 'Asruid', 'Five', 85, 'male')\n"
     ]
    }
   ],
   "source": [
    "my_cursor = my_conn.execute(\"select id, name, class, mark, sex from student where id = 8\")\n",
    "data_row = my_cursor.fetchone()\n",
    "\n",
    "print(data_row)"
   ]
  },
  {
   "cell_type": "code",
   "execution_count": 39,
   "metadata": {},
   "outputs": [
    {
     "name": "stdout",
     "output_type": "stream",
     "text": [
      "<class 'list'>\n",
      "No of records : 10\n",
      "(1, 'John Deo', 'Four', 75, 'female')\n",
      "(2, 'Max Ruin', 'Three', 85, 'male')\n",
      "(3, 'Arnold', 'Three', 55, 'male')\n",
      "(4, 'Krish Star', 'Four', 60, 'female')\n",
      "(5, 'John Mike', 'Four', 60, 'female')\n",
      "(6, 'Alex John', 'Four', 55, 'male')\n",
      "(7, 'My John Rob', 'Five', 78, 'male')\n",
      "(8, 'Asruid', 'Five', 85, 'male')\n",
      "(9, 'Tes Qry', 'Six', 78, 'male')\n",
      "(10, 'Big John', 'Four', 55, 'female')\n"
     ]
    }
   ],
   "source": [
    "my_cursor = my_conn.execute(\"select id, name, class, mark, sex from student limit 0,10\")\n",
    "data_row = my_cursor.fetchall()\n",
    "\n",
    "print(type(data_row))\n",
    "print(\"No of records : {}\".format(len(data_row)))\n",
    "for row in data_row:\n",
    "    print(row)"
   ]
  }
 ],
 "metadata": {
  "kernelspec": {
   "display_name": "Python 3.8.10 64-bit",
   "language": "python",
   "name": "python3"
  },
  "language_info": {
   "codemirror_mode": {
    "name": "ipython",
    "version": 3
   },
   "file_extension": ".py",
   "mimetype": "text/x-python",
   "name": "python",
   "nbconvert_exporter": "python",
   "pygments_lexer": "ipython3",
   "version": "3.8.10"
  },
  "orig_nbformat": 4,
  "vscode": {
   "interpreter": {
    "hash": "916dbcbb3f70747c44a77c7bcd40155683ae19c65e1c03b4aa3499c5328201f1"
   }
  }
 },
 "nbformat": 4,
 "nbformat_minor": 2
}
